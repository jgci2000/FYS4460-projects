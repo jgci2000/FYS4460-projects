{
 "cells": [
  {
   "cell_type": "code",
   "execution_count": 12,
   "id": "a45a26fd",
   "metadata": {},
   "outputs": [],
   "source": [
    "import numpy as np\n",
    "import matplotlib.pyplot as plt\n",
    "import lammps_logfile as lf\n",
    "import os"
   ]
  },
  {
   "cell_type": "markdown",
   "id": "8877e300",
   "metadata": {},
   "source": [
    "# Part a) \n",
    "\n",
    "Histogram of velocities"
   ]
  },
  {
   "cell_type": "code",
   "execution_count": 7,
   "id": "e6d2f124",
   "metadata": {},
   "outputs": [
    {
     "name": "stdout",
     "output_type": "stream",
     "text": [
      "File read!\n"
     ]
    },
    {
     "name": "stderr",
     "output_type": "stream",
     "text": [
      "/var/folders/tb/7t6gcvwn2f35mdzypnx7vb0c0000gn/T/ipykernel_30383/3562227540.py:43: UserWarning: Matplotlib is currently using module://matplotlib_inline.backend_inline, which is a non-GUI backend, so cannot show the figure.\n",
      "  fig.show() #shows the figure object\n"
     ]
    },
    {
     "ename": "NameError",
     "evalue": "name 'camera' is not defined",
     "output_type": "error",
     "traceback": [
      "\u001b[0;31m---------------------------------------------------------------------------\u001b[0m",
      "\u001b[0;31mNameError\u001b[0m                                 Traceback (most recent call last)",
      "\u001b[0;32m/var/folders/tb/7t6gcvwn2f35mdzypnx7vb0c0000gn/T/ipykernel_30383/3562227540.py\u001b[0m in \u001b[0;36m<module>\u001b[0;34m\u001b[0m\n\u001b[1;32m     43\u001b[0m     \u001b[0mfig\u001b[0m\u001b[0;34m.\u001b[0m\u001b[0mshow\u001b[0m\u001b[0;34m(\u001b[0m\u001b[0;34m)\u001b[0m \u001b[0;31m#shows the figure object\u001b[0m\u001b[0;34m\u001b[0m\u001b[0;34m\u001b[0m\u001b[0m\n\u001b[1;32m     44\u001b[0m     \u001b[0mfig\u001b[0m\u001b[0;34m.\u001b[0m\u001b[0mcanvas\u001b[0m\u001b[0;34m.\u001b[0m\u001b[0mdraw\u001b[0m\u001b[0;34m(\u001b[0m\u001b[0;34m)\u001b[0m\u001b[0;34m\u001b[0m\u001b[0;34m\u001b[0m\u001b[0m\n\u001b[0;32m---> 45\u001b[0;31m     \u001b[0mcamera\u001b[0m\u001b[0;34m.\u001b[0m\u001b[0msnap\u001b[0m\u001b[0;34m(\u001b[0m\u001b[0;34m)\u001b[0m \u001b[0;31m# camera object to capture teh animation\u001b[0m\u001b[0;34m\u001b[0m\u001b[0;34m\u001b[0m\u001b[0m\n\u001b[0m\u001b[1;32m     46\u001b[0m     \u001b[0mtime\u001b[0m\u001b[0;34m.\u001b[0m\u001b[0msleep\u001b[0m\u001b[0;34m(\u001b[0m\u001b[0;36m1\u001b[0m\u001b[0;34m)\u001b[0m\u001b[0;34m\u001b[0m\u001b[0;34m\u001b[0m\u001b[0m\n\u001b[1;32m     47\u001b[0m \u001b[0;34m\u001b[0m\u001b[0m\n",
      "\u001b[0;31mNameError\u001b[0m: name 'camera' is not defined"
     ]
    },
    {
     "data": {
      "image/png": "[encoded data removed]",
      "text/plain": [
       "<Figure size 432x288 with 1 Axes>"
      ]
     },
     "metadata": {
      "needs_background": "light"
     },
     "output_type": "display_data"
    }
   ],
   "source": [
    "from ase.io import read\n",
    "from celluloid import Camera \n",
    "import matplotlib.animation as animation\n",
    "from IPython import display\n",
    "import time\n",
    "from IPython.display import HTML\n",
    "\n",
    "file_name = \"simple_md/dump.lammpstrj\"\n",
    "traj = read(file_name, format=\"lammps-dump-text\", index=\":\")\n",
    "print(\"File read!\")\n",
    " \n",
    "n = len(traj)\n",
    "n_bins = 30\n",
    "v_min = 0\n",
    "v_max = 8\n",
    "\n",
    "v_T = traj[n-1].get_velocities()\n",
    "v_mod_T = np.sqrt(v_T[:, 0]**2 + v_T[:, 1]**2 + v_T[:, 2]**2)\n",
    "h_T, bins = np.histogram(v_T[:, 0], bins=n_bins, range=(v_min, v_max))\n",
    "h_T2 = h_T * h_T\n",
    "\n",
    "fig = plt.figure(1)\n",
    "ax = fig.add_subplot() \n",
    "cam = Camera(fig)\n",
    "\n",
    "for i, frame in enumerate(traj):\n",
    "    v_t = frame.get_velocities()\n",
    "    \n",
    "    v_mod_t = np.sqrt(v_t[:, 0]**2 + v_t[:, 1]**2 + v_t[:, 2]**2)\n",
    "    h_t, _ = np.histogram(v_t[:, 0], bins=n_bins, range=(v_min, v_max))\n",
    "   \n",
    "    h_norm = np.zeros_like(h_T)\n",
    "    h_norm[h_T2 != 0] = h_t[h_T2 != 0] * h_T[h_T2 != 0] / h_T2[h_T2 != 0]\n",
    "    \n",
    "    ax.plot(bins[:-1], h_t, '-r', label=\"Histogram\")\n",
    "    plt.plot(bins[:-1], h_T, '-r', label=\"Histogram\")\n",
    "    ax.set_xlabel(r\"$v$\")\n",
    "    ax.set_ylabel(r\"$P(v)$\")\n",
    "    plt.xlim(v_min, v_max)\n",
    "    plt.ylim(0, 0.8)\n",
    "    plt.legend()\n",
    "    \n",
    "    fig.show() #shows the figure object\n",
    "    fig.canvas.draw() \n",
    "    cam.snap() # camera object to capture teh animation\n",
    "    time.sleep(1)\n",
    "\n",
    "animation = camera.animate(interval = 200, repeat = True, repeat_delay = 500)\n",
    "HTML(animation.to_html5_video())\n",
    "animation.save('abc.mp4') # to save     \n"
   ]
  },
  {
   "cell_type": "code",
   "execution_count": null,
   "id": "c9aea747",
   "metadata": {},
   "outputs": [],
   "source": [
    "import imageio\n",
    "\n",
    "# GIF Stuff Bellow\n",
    "\n",
    "filenames = list()\n",
    "print(\"Starting making the gif\")\n",
    "for i, frame in enumerate(traj):\n",
    "    plt.figure(\"Distribution of Velocities\")\n",
    "     \n",
    "    v_t = frame.get_velocities()\n",
    "    print(v_t[0, 0], v_t[0, 1], v_t[0, 2])\n",
    "    \n",
    "    v_mod_t = np.sqrt(v_t[:, 0]**2 + v_t[:, 1]**2 + v_t[:, 2]**2)\n",
    "    h_t, _ = np.histogram(v_t[:, 0], bins=n_bins, range=(v_min, v_max))\n",
    "   \n",
    "    h_norm = np.zeros_like(h_T)\n",
    "    h_norm[h_T2 != 0] = h_t[h_T2 != 0] * h_T[h_T2 != 0] / h_T2[h_T2 != 0]\n",
    "    \n",
    "    # plt.plot(np.linspace(0, 6, 1000), maxwell_velocity(np.linspace(0, 6, 1000), T), '-r', label=\"Maxwell-Boltzmann Distribution\")\n",
    "    plt.plot(bins[:-1], h_t, '-r', label=\"Histogram\")\n",
    "    plt.plot(bins[:-1], h_T, '-r', label=\"Histogram\")\n",
    "    plt.xlabel(r\"$v$\")\n",
    "    plt.ylabel(r\"$P(v)$\")\n",
    "    plt.xlim(v_min, v_max)\n",
    "    plt.ylim(0, 0.8)\n",
    "    plt.legend()\n",
    "\n",
    "    # create file name and append it to a list\n",
    "    filename = f'{i}.png'\n",
    "    filenames.append(filename)\n",
    "    plt.savefig(filename)\n",
    "    plt.close()\n",
    "    \n",
    "    if i > 30:\n",
    "        exit()\n",
    "\n",
    "    print(f\"{i+1}/{n}\", end=\"\\r\")\n",
    "\n",
    "# build gif\n",
    "with imageio.get_writer('velocity.gif', mode='I') as writer:\n",
    "    for filename in filenames:\n",
    "        image = imageio.imread(filename)\n",
    "        writer.append_data(image)\n",
    "print(\"Gif done!\")\n",
    "print(\"Removing files\")        \n",
    "# Remove files\n",
    "for filename in set(filenames):\n",
    "    os.remove(filename)"
   ]
  },
  {
   "cell_type": "markdown",
   "id": "67da7984",
   "metadata": {},
   "source": [
    "# Part b) and c)\n",
    "\n",
    "Finding the total KE of the system and plotting the size of the fluctuations as a function of the timestep dt"
   ]
  },
  {
   "cell_type": "code",
   "execution_count": 15,
   "id": "9998b2ec",
   "metadata": {},
   "outputs": [
    {
     "name": "stdout",
     "output_type": "stream",
     "text": [
      "done 1/6\n",
      "done 2/6\n",
      "done 3/6\n",
      "done 4/6\n",
      "done 5/6\n",
      "done 6/6\n"
     ]
    },
    {
     "data": {
      "image/png": "[encoded data removed]",
      "text/plain": [
       "<Figure size 432x288 with 1 Axes>"
      ]
     },
     "metadata": {
      "needs_background": "light"
     },
     "output_type": "display_data"
    },
    {
     "data": {
      "image/png": "[encoded data removed]",
      "text/plain": [
       "<Figure size 432x288 with 1 Axes>"
      ]
     },
     "metadata": {
      "needs_background": "light"
     },
     "output_type": "display_data"
    }
   ],
   "source": [
    "dt_vals = np.power(10.0, np.array([-1.8, -2, -3, -4, -5, -6]))\n",
    "n_measure = 51\n",
    "\n",
    "filename = lambda x: \"part_b/log_\" + str(x) + \".lammps\"\n",
    "\n",
    "T = np.zeros((len(dt_vals), n_measure))\n",
    "E = np.zeros((len(dt_vals), n_measure))\n",
    "t = np.zeros((len(dt_vals), n_measure))\n",
    "\n",
    "for i, dt in enumerate(dt_vals):\n",
    "    file = lf.File(filename(i+1))\n",
    "    \n",
    "    t[i, :] = file.get(\"Time\")\n",
    "    T[i, :] = file.get(\"Temp\")\n",
    "    E[i, :] = file.get(\"TotEng\")\n",
    "    \n",
    "    plt.figure(\"T vs t\")\n",
    "    plt.title(\"T vs t\")\n",
    "    plt.plot(t[i, :], T[i, :], label=f\"dt={int(np.log10(dt))}\")\n",
    "    plt.xlabel(r\"$t$\")\n",
    "    plt.ylabel(r\"$T$\")\n",
    "    plt.legend()\n",
    "    \n",
    "    print(f\"done {i+1}/{len(dt_vals)}\")\n",
    "\n",
    "plt.figure(\"E vs dt\")\n",
    "plt.title(\"E vs dt\")\n",
    "plt.errorbar(np.log10(dt_vals), np.mean(E, axis=1), yerr=np.std(E, axis=1))\n",
    "plt.xlabel(r\"$dt$\")\n",
    "plt.ylabel(r\"$\\langle E \\rangle$\")\n",
    "\n",
    "plt.show()\n",
    "\n"
   ]
  },
  {
   "cell_type": "markdown",
   "id": "f5b96017",
   "metadata": {},
   "source": [
    "# Part d)\n",
    "Measuring the pressure as a function of the temperature, P(T)"
   ]
  },
  {
   "cell_type": "code",
   "execution_count": 19,
   "id": "e87a1608",
   "metadata": {},
   "outputs": [
    {
     "data": {
      "image/png": "[encoded data removed]",
      "text/plain": [
       "<Figure size 432x288 with 1 Axes>"
      ]
     },
     "metadata": {
      "needs_background": "light"
     },
     "output_type": "display_data"
    }
   ],
   "source": [
    "T_vals = np.linspace(0, 25, 25)\n",
    "n_measure = 51\n",
    "\n",
    "filename = lambda x: \"part_c/log_\" + str(x) + \".lammps\"\n",
    "\n",
    "T = np.zeros((len(T_vals), n_measure))\n",
    "P = np.zeros((len(T_vals), n_measure))\n",
    "\n",
    "for i, T_in in enumerate(T_vals):\n",
    "    file = lf.File(filename(i+1))\n",
    "    \n",
    "    T[i, :] = file.get(\"Temp\")\n",
    "    P[i, :] = file.get(\"Press\")\n",
    "\n",
    "plt.figure(\"P vs T\")\n",
    "plt.title(\"P vs T\")\n",
    "plt.plot(np.mean(T[:, :-10], axis=1), np.mean(P[:, :-10], axis=1), 'o-b')\n",
    "plt.xlabel(r\"$T$\")\n",
    "plt.ylabel(r\"$P$\")\n",
    "plt.show()"
   ]
  },
  {
   "cell_type": "markdown",
   "id": "19258361",
   "metadata": {},
   "source": [
    "# Part e)\n",
    "Measuring pressure as a function of temperature and density, P(T, rho)"
   ]
  },
  {
   "cell_type": "code",
   "execution_count": null,
   "id": "d73daae5",
   "metadata": {},
   "outputs": [],
   "source": []
  }
 ],
 "metadata": {
  "kernelspec": {
   "display_name": "Python 3 (ipykernel)",
   "language": "python",
   "name": "python3"
  },
  "language_info": {
   "codemirror_mode": {
    "name": "ipython",
    "version": 3
   },
   "file_extension": ".py",
   "mimetype": "text/x-python",
   "name": "python",
   "nbconvert_exporter": "python",
   "pygments_lexer": "ipython3",
   "version": "3.9.10"
  }
 },
 "nbformat": 4,
 "nbformat_minor": 5
}
